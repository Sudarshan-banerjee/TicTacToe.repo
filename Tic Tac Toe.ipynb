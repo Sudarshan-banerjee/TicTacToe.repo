{
 "cells": [
  {
   "cell_type": "code",
   "execution_count": 1,
   "id": "430ca007",
   "metadata": {},
   "outputs": [],
   "source": [
    "from IPython.display import clear_output\n",
    "def tic_board(board):\n",
    "    clear_output()\n",
    "    print(board[7]+'|'+board[8]+'|'+board[9])\n",
    "    print(\"-|-|-\")\n",
    "    print(board[4]+'|'+board[5]+'|'+board[6])\n",
    "    print(\"-|-|-\")\n",
    "    print(board[1]+'|'+board[2]+'|'+board[3])"
   ]
  },
  {
   "cell_type": "code",
   "execution_count": 2,
   "id": "e86a4a7f",
   "metadata": {},
   "outputs": [
    {
     "name": "stdout",
     "output_type": "stream",
     "text": [
      "X|O|X\n",
      "-|-|-\n",
      "O|X|O\n",
      "-|-|-\n",
      "X|O|X\n"
     ]
    }
   ],
   "source": [
    "#check\n",
    "test_board=['#','X','O','X','O','X','O','X','O','X']*10\n",
    "tic_board(test_board)"
   ]
  },
  {
   "cell_type": "code",
   "execution_count": 3,
   "id": "b39c635d",
   "metadata": {},
   "outputs": [],
   "source": [
    "def player_choose():\n",
    "    choice='Wrong'\n",
    "    while choice not in ['X','O']:\n",
    "        choice=input(\"please choose one from X and O: \")\n",
    "        \n",
    "        if choice in ['X','O']:\n",
    "            player1=choice\n",
    "        else:\n",
    "            pass\n",
    "    if player1=='X':\n",
    "        player2='O'\n",
    "    else:\n",
    "        player2='X'\n",
    "    return (player1,player2)"
   ]
  },
  {
   "cell_type": "code",
   "execution_count": 4,
   "id": "351c14ec",
   "metadata": {},
   "outputs": [
    {
     "name": "stdout",
     "output_type": "stream",
     "text": [
      "please choose one from X and O: X\n"
     ]
    }
   ],
   "source": [
    "#check\n",
    "player1_marker,player2_marker=player_choose()"
   ]
  },
  {
   "cell_type": "code",
   "execution_count": 5,
   "id": "8ca14321",
   "metadata": {},
   "outputs": [],
   "source": [
    "def place_marker(board,position,marker):\n",
    "    board[position]=marker"
   ]
  },
  {
   "cell_type": "code",
   "execution_count": 6,
   "id": "90d74846",
   "metadata": {},
   "outputs": [
    {
     "name": "stdout",
     "output_type": "stream",
     "text": [
      "X|O|$\n",
      "-|-|-\n",
      "O|X|O\n",
      "-|-|-\n",
      "X|O|X\n"
     ]
    }
   ],
   "source": [
    "place_marker(test_board,9,'$')\n",
    "tic_board(test_board)"
   ]
  },
  {
   "cell_type": "code",
   "execution_count": 7,
   "id": "e5e37420",
   "metadata": {},
   "outputs": [],
   "source": [
    "def win_check(board,marker):\n",
    "    return ((board[7]==marker and board[8]==marker and board[9]==marker) or\n",
    "    (board[4]==marker and board[5]==marker and board[6]==marker) or \n",
    "    (board[1]==marker and board[2]==marker and board[3]==marker) or\n",
    "    (board[7]==marker and board[4]==marker and board[1]==marker) or\n",
    "    (board[8]==marker and board[5]==marker and board[2]==marker) or\n",
    "    (board[9]==marker and board[6]==marker and board[3]==marker) or\n",
    "    (board[7]==marker and board[5]==marker and board[3]==marker)or \n",
    "    (board[9]==marker and board[5]==marker and board[1]==marker))"
   ]
  },
  {
   "cell_type": "code",
   "execution_count": 8,
   "id": "4f6a5da2",
   "metadata": {},
   "outputs": [
    {
     "data": {
      "text/plain": [
       "True"
      ]
     },
     "execution_count": 8,
     "metadata": {},
     "output_type": "execute_result"
    }
   ],
   "source": [
    "win_check(test_board,'X')"
   ]
  },
  {
   "cell_type": "code",
   "execution_count": 9,
   "id": "59e1297c",
   "metadata": {},
   "outputs": [],
   "source": [
    "from random import randint\n",
    "\n",
    "def choose_first():\n",
    "    x=randint(1,2)\n",
    "    if x==1:\n",
    "        return 'player1'\n",
    "    else:\n",
    "        return 'player2'"
   ]
  },
  {
   "cell_type": "code",
   "execution_count": 10,
   "id": "4b3242ed",
   "metadata": {},
   "outputs": [
    {
     "name": "stdout",
     "output_type": "stream",
     "text": [
      "player2\n"
     ]
    }
   ],
   "source": [
    "print(choose_first())"
   ]
  },
  {
   "cell_type": "code",
   "execution_count": 11,
   "id": "fcda28da",
   "metadata": {},
   "outputs": [],
   "source": [
    "def space_check(board,position):\n",
    "    if board[position]==' ':\n",
    "        return True\n",
    "    else:\n",
    "        return False"
   ]
  },
  {
   "cell_type": "code",
   "execution_count": 12,
   "id": "18d75ba5",
   "metadata": {},
   "outputs": [
    {
     "data": {
      "text/plain": [
       "False"
      ]
     },
     "execution_count": 12,
     "metadata": {},
     "output_type": "execute_result"
    }
   ],
   "source": [
    "space_check(test_board,8)"
   ]
  },
  {
   "cell_type": "code",
   "execution_count": 13,
   "id": "ce82fa10",
   "metadata": {},
   "outputs": [],
   "source": [
    "def full_check(board):\n",
    "    return ((board[7]!=' ') and (board[8]!=' ') and (board[9]!=' ') and (board[4]!=' ') and\n",
    "    (board[5]!=' ') and (board[6]!=' ') and (board[1]!=' ') and (board[2]!=' ') and (board[3]!=' '))"
   ]
  },
  {
   "cell_type": "code",
   "execution_count": 14,
   "id": "9d98efce",
   "metadata": {},
   "outputs": [
    {
     "data": {
      "text/plain": [
       "True"
      ]
     },
     "execution_count": 14,
     "metadata": {},
     "output_type": "execute_result"
    }
   ],
   "source": [
    "full_check(test_board)"
   ]
  },
  {
   "cell_type": "code",
   "execution_count": 15,
   "id": "8c26ed95",
   "metadata": {},
   "outputs": [],
   "source": [
    "def player_choice(board):\n",
    "    position=0\n",
    "     \n",
    "    while position not in [1,2,3,4,5,6,7,8,9] or not space_check(board, position):\n",
    "        position = int(input('Choose your next position: (1-9) '))\n",
    "        \n",
    "    return position"
   ]
  },
  {
   "cell_type": "code",
   "execution_count": 16,
   "id": "62f8fac9",
   "metadata": {},
   "outputs": [],
   "source": [
    "def replay():\n",
    "    play=' '\n",
    "    while play not in ['Y','N']:\n",
    "        play=input(\"Do you wanna play again? Y or N: \")\n",
    "        \n",
    "    if play=='Y':\n",
    "        return True\n",
    "    else:\n",
    "        return False"
   ]
  },
  {
   "cell_type": "code",
   "execution_count": 17,
   "id": "e3603efd",
   "metadata": {},
   "outputs": [
    {
     "name": "stdout",
     "output_type": "stream",
     "text": [
      "Do you wanna play again? Y or N: Y\n"
     ]
    },
    {
     "data": {
      "text/plain": [
       "True"
      ]
     },
     "execution_count": 17,
     "metadata": {},
     "output_type": "execute_result"
    }
   ],
   "source": [
    "replay()"
   ]
  },
  {
   "cell_type": "code",
   "execution_count": null,
   "id": "5ee72298",
   "metadata": {},
   "outputs": [],
   "source": [
    "print(\"Welcome to Tic Tac Toe!\")\n",
    "\n",
    "\n",
    "while True:\n",
    "    \n",
    "    board=[' ']*10\n",
    "    player1_marker,player2_marker=player_choose()\n",
    "    turn=choose_first()\n",
    "    print(turn+'will go first!')\n",
    "    \n",
    "    play_game=input(\"Are you ready to play? Yes or No: \")\n",
    "    \n",
    "    if play_game.lower()[0]=='y':\n",
    "        game_on=True\n",
    "    else:\n",
    "        game_on=False\n",
    "        \n",
    "    while game_on:\n",
    "        \n",
    "        if turn=='player1':\n",
    "            \n",
    "            tic_board(board)\n",
    "            position=player_choice(board)\n",
    "            place_marker(board,position,player1_marker)\n",
    "            \n",
    "            if win_check(board,player1_marker):\n",
    "                tic_board(board)\n",
    "                print(\"Congratulations!! player1 won the game!\")\n",
    "                game_on=False\n",
    "                \n",
    "            else:\n",
    "                if full_check(board):\n",
    "                    tic_board(board)\n",
    "                    print(\"The match is a draw!\")\n",
    "                    break\n",
    "                else:\n",
    "                    turn='player2'\n",
    "        else:\n",
    "            tic_board(board)\n",
    "            position=player_choice(board)\n",
    "            place_marker(board,position,player2_marker)\n",
    "            \n",
    "            if win_check(board,player2_marker):\n",
    "                tic_board(board)\n",
    "                print(\"Congratulations!! player2 won the game!\")\n",
    "                game_on=False\n",
    "                \n",
    "            else:\n",
    "                if full_check(board):\n",
    "                    tic_board(board)\n",
    "                    print(\"The match is a draw!\")\n",
    "                    break\n",
    "                else:\n",
    "                    turn='player1'\n",
    "                    \n",
    "    if not replay():\n",
    "        break"
   ]
  },
  {
   "cell_type": "code",
   "execution_count": null,
   "id": "85719e89",
   "metadata": {},
   "outputs": [],
   "source": []
  }
 ],
 "metadata": {
  "kernelspec": {
   "display_name": "Python 3",
   "language": "python",
   "name": "python3"
  },
  "language_info": {
   "codemirror_mode": {
    "name": "ipython",
    "version": 3
   },
   "file_extension": ".py",
   "mimetype": "text/x-python",
   "name": "python",
   "nbconvert_exporter": "python",
   "pygments_lexer": "ipython3",
   "version": "3.8.8"
  }
 },
 "nbformat": 4,
 "nbformat_minor": 5
}
